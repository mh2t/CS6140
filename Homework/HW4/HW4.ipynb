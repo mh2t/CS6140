{
  "nbformat": 4,
  "nbformat_minor": 0,
  "metadata": {
    "colab": {
      "provenance": []
    },
    "kernelspec": {
      "name": "python3",
      "display_name": "Python 3"
    },
    "language_info": {
      "name": "python"
    }
  },
  "cells": [
    {
      "cell_type": "markdown",
      "source": [
        "#**CS6140 - Machine Learning**\n",
        "##**Spring 2024 Homework Assignment 4**\n",
        "\n",
        "Submission Instructions:\n",
        "- Please complete this homework assignment in the same notebook provided.\n",
        "- Submit your completed assignment on Canvas by the deadline.\n",
        "\n",
        "Submission Deadline:\n",
        "**April 21st, 2024**\n",
        "\n",
        "<p align=\"justify\">\n",
        "Please read the instructions carefully when answering questions and ensure your code works correctly before submission. The grader will run your code for grading the coding questions without any adjustment.\n",
        "</p>"
      ],
      "metadata": {
        "id": "rijTPZdl8VyS"
      }
    },
    {
      "cell_type": "code",
      "execution_count": null,
      "metadata": {
        "id": "swUo8ED08Rwf"
      },
      "outputs": [],
      "source": [
        "#@markdown ### Enter your first and last names below:\n",
        "First Name = \"\" #@param {type:\"string\"}\n",
        "Last Name = \"\" #@param {type:\"string\"}"
      ]
    },
    {
      "cell_type": "markdown",
      "source": [
        "##**Problem Description**\n",
        "\n",
        "Financial institutions that lend to consumers rely on models to help decide on who to approve or decline for credit (for lending products such as credit cards, automobile loans, or home loans). In this project, your task is to develop models that review credit card applications to determine which ones should be approved. You are given historical data on response (binary default indicator) and 20 predictor variables from credit card accounts for a hypothetical bank XYZ, a regional bank in the Bay area. There are three datasets available: a [training](https://raw.githubusercontent.com/mh2t/CS6140/main/Homework/HW4/HW4-Train.csv) dataset with 20,000 accounts; a [validation](https://raw.githubusercontent.com/mh2t/CS6140/main/Homework/HW4/HW4-Validation.csv) dataset with 3,000 accounts, and a **hidden** test dataset with 5,000 accounts. Information about the variables is given in the [Appendix](https://github.com/mh2t/CS6140/blob/main/Homework/HW4/HW4-appx.pdf).\n",
        "\n",
        "You are asked to do the following and also address specific questions below:\n",
        "\n",
        "* **(10 points)** Do any necessary data pre-processing in preparation for modeling.\n",
        "* **(20 points)** Develop and fit a logistic regression (LR) model, assess its performance, and interpret the results.\n",
        "* **(20 points)** Develop an additional model based on a machine learning (ML) algorithm selected from one of the following: Random Forest, Gradient Boosting (XGBoost or another implementation), or Feedforward Neural Network; assess its performance, and make sure to explain why you chose this particular algorithm.\n",
        "* **(10 points)** Compare the results from the ML algorithm with those from logistic regression model and discuss their advantages and disadvantages; select one of these models for credit approval; and describe the reasons for your selection.\n",
        "* **(5 points)** Describe what performance metrics you chose to evalaute your proposed models and why.\n",
        "* **(10 points)** Describe how you would use it to make decisions on future credit card applications.\n",
        "* **(5 points)** Do customers who already have an account with the financial institution receive any favorable treatment in your model? Support your answer with appropriate analysis.\n",
        "* **(20 points)** 2-page report.\n",
        "* You can use any libraries for this homework.\n",
        "\n"
      ],
      "metadata": {
        "id": "m-775qXD8mti"
      }
    },
    {
      "cell_type": "markdown",
      "source": [
        "##**Deliverables**\n",
        "\n",
        "Please submit the following:\n",
        "\n",
        "1. A report (doc file) that describes all important steps in your data analysis,\n",
        "model development, comparison of the models, and answer to the specific questions in addition to justification for your final model selection. The body of the report should be no more than 2 pages in length (font size 11 and spacing 1.2).\n",
        "2. The codes you used for the analysis should have brief but adequate annotations so that we can run it. Using a format of **IPYNB** is mandatory. Clearly indicate the software packages and versions (if appropriate) that you used for the analysis.\n",
        "3. You are allowed to review textbooks, published papers, websites, and other open literature in preparing for this homework. Note, however, that the material you submit in your report must be based on your own analysis and writing. If you relied on published scholarly work and open-source software for your analysis and findings (beyond what is generally known), you should provide references at the end of the report.\n"
      ],
      "metadata": {
        "id": "aDFDOsITA5RB"
      }
    }
  ]
}