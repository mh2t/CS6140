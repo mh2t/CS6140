{
  "nbformat": 4,
  "nbformat_minor": 0,
  "metadata": {
    "colab": {
      "provenance": []
    },
    "kernelspec": {
      "name": "python3",
      "display_name": "Python 3"
    },
    "language_info": {
      "name": "python"
    }
  },
  "cells": [
    {
      "cell_type": "markdown",
      "source": [
        "#**DS5230: Unsupervised Machine Learning and Data Mining, Spring 2024**\n",
        "##**Homework 1**\n",
        "\n",
        "Submission Instructions:\n",
        "- Please complete this homework assignment in the same notebook provided.\n",
        "- Submit your completed assignment on Canvas by the deadline.\n",
        "\n",
        "Submission Deadline:\n",
        "**Feb 9th, 2024**\n",
        "\n",
        "<p align=\"justify\">\n",
        "Please answer Question 1 in the textbox after each item and save the notebook.\n",
        "For the coding questions (Q2-Q4), complete the starter code by including your code. Please read the instructions carefully when answering questions and ensure your code works correctly before submission. The grader will run your code for grading the coding questions.\n",
        "</p>"
      ],
      "metadata": {
        "id": "LqPupmm1evlu"
      }
    },
    {
      "cell_type": "code",
      "source": [
        "#@markdown ### Enter your first and last names below:\n",
        "First Name = \"\" #@param {type:\"string\"}\n",
        "Last Name = \"\" #@param {type:\"string\"}"
      ],
      "metadata": {
        "cellView": "form",
        "id": "tH3KQP7UjCMU"
      },
      "execution_count": null,
      "outputs": []
    },
    {
      "cell_type": "markdown",
      "source": [
        "## **(25pts) Question 1**\n",
        "### (a) How is the distance between a data point and a cluster centroid calculated in k-means?\n",
        "\n",
        "**Write your answer:**"
      ],
      "metadata": {
        "id": "r0TqmJl4Q-09"
      }
    },
    {
      "cell_type": "markdown",
      "source": [
        "### (b) How is the cluster assignment for a data point determined in k-means?  \n",
        "**Write your answer:**"
      ],
      "metadata": {
        "id": "dggGWun3SW1y"
      }
    },
    {
      "cell_type": "markdown",
      "source": [
        "### (c) How is the cluster centroid updated after each iteration in k-means?  \n",
        "**Write your answer:**"
      ],
      "metadata": {
        "id": "Zet_czIMTR3j"
      }
    },
    {
      "cell_type": "markdown",
      "source": [
        "### (d) How is the stopping condition for k-means determined?  \n",
        "**Write your answer:**"
      ],
      "metadata": {
        "id": "M6rKOrfHUOr-"
      }
    },
    {
      "cell_type": "markdown",
      "source": [
        "### (e) What is the role of the k-means initialization in the performance of the k-means algorithm?  \n",
        "**Write your answer:**"
      ],
      "metadata": {
        "id": "hNSU-wTGUmco"
      }
    },
    {
      "cell_type": "markdown",
      "source": [
        "### (f) Given a dataset of n points, what is the computational complexity of the single linkage method for hierarchical clustering?  \n",
        "**Write your answer:**"
      ],
      "metadata": {
        "id": "7PAzF1U_Wls0"
      }
    },
    {
      "cell_type": "markdown",
      "source": [
        "### (g) How is the linkage distance between two clusters A and B defined for the complete linkage method?  \n",
        "**Write your answer:**"
      ],
      "metadata": {
        "id": "zo4jKakmXFcD"
      }
    },
    {
      "cell_type": "markdown",
      "source": [
        "### (h) How can the linkage distance between two clusters A and B for the average linkage method be calculated?\n",
        "**Write your answer:**"
      ],
      "metadata": {
        "id": "5gYldbLnXwnR"
      }
    },
    {
      "cell_type": "markdown",
      "source": [
        "### (i) Explain how Ward linkage method works and what is the linkage distance between two clusters A and B in Ward linkage method.\n",
        "**Write your answer:**"
      ],
      "metadata": {
        "id": "l-LLQKODYpZw"
      }
    },
    {
      "cell_type": "markdown",
      "source": [
        "### (j) How can the number of clusters be determined from a dendrogram?  \n",
        "**Write your answer:**"
      ],
      "metadata": {
        "id": "9a9S6Nk4ZxsT"
      }
    },
    {
      "cell_type": "markdown",
      "source": [
        "## **(25pts) Question 2**\n",
        "<p align=\"justify\">\n",
        "Suppose you are an ML/SW engineer working for XYZ company. Your task is to implement a code based on a pseudo-code provided to you by your manager as follows:  \n",
        "</p>\n",
        "\n",
        "```\n",
        "1. Input: X (data matrix), k (number of clusters), max_iter (maximum number of iterations), tol (convergence tolerance)\n",
        "2. Output: centroids, clusters\n",
        "\n",
        "3. Initialize cluster centroids randomly from the data points\n",
        "4. For i in range(max_iter):\n",
        "    5. For each point in X, calculate the distance to each centroid\n",
        "    6. Assign each point to the closest centroid\n",
        "    7. For each centroid:\n",
        "        8. Calculate the mean of the points assigned to it\n",
        "        9. Update the centroid to the calculated mean\n",
        "   10. Check for convergence by comparing current and previous centroids\n",
        "   11. If convergence is reached, break the loop\n",
        "12. Return the final centroids and clusters\n",
        "```\n",
        "\n",
        "<p align=\"justify\">\n",
        "\n",
        "This pseudo-code is similar to *k-means* clustering algorithm, however, you should follow the instruction to ensure your code can pass the unit test provided by the *QA* (quality assurance) section.\n",
        "You are not required to write the unit test, but your code should pass the following parts to receive full credit:\n",
        "\n",
        "*   Algorithm convergence\n",
        "*   All points are clustered correctly\n",
        "*   Your algortihm works for different number of clusters\n",
        "\n",
        "**Note: The code for the unit test is hidden. Please do not change the name of the function for grading.**\n",
        "\n",
        "</p>"
      ],
      "metadata": {
        "id": "jVwkrAYoeDk8"
      }
    },
    {
      "cell_type": "code",
      "execution_count": null,
      "metadata": {
        "id": "OJWsEpP0NwKh"
      },
      "outputs": [],
      "source": [
        "import numpy as np\n",
        "\n",
        "def coordinate_descent_kmeans(X, k, max_iter=100, tol=1e-4):\n",
        "    \"\"\"\n",
        "    Coordinate descent algorithm for k-means clustering.\n",
        "\n",
        "    Parameters:\n",
        "        X (array-like): data matrix with shape (n_samples, n_features)\n",
        "        k (int): number of clusters\n",
        "        max_iter (int): maximum number of iterations (default: 100)\n",
        "        tol (float): convergence tolerance (default: 1e-4)\n",
        "\n",
        "    Returns:\n",
        "        centroids (array-like): cluster centroids with shape (k, n_features)\n",
        "        clusters (array-like): cluster assignments for each data point with shape (n_samples,)\n",
        "    \"\"\"\n",
        "\n",
        "    ### YOUR CODE GOES HERE ###\n",
        "\n",
        "    pass\n"
      ]
    },
    {
      "cell_type": "markdown",
      "source": [
        "## **(25pts) Question 3**\n",
        "<p align=\"justify\">\n",
        "\n",
        "Three popular algorithms were discussed in the lecture: *K-Means*, *Mini Batch K-Means*, and *K-Means++*. Write a Python program to run each method 500 times and find the average running time for each. Plot the results side-by-side in one plot to compare them and share your observations in a paragraph.\n",
        "\n",
        "</p>\n",
        "\n",
        "**Include your code in the starter code below:**"
      ],
      "metadata": {
        "id": "q20tBom8repV"
      }
    },
    {
      "cell_type": "code",
      "source": [
        "import time\n",
        "from sklearn.datasets import make_blobs\n",
        "from sklearn.cluster import KMeans, MiniBatchKMeans\n",
        "import matplotlib.pyplot as plt\n",
        "\n",
        "num_runs = 500\n",
        "kmeans_times = []\n",
        "mb_kmeans_times = []\n",
        "kmeans_pp_times = []\n",
        "\n",
        "# Generate random blobs of data\n",
        "data, labels = make_blobs(n_samples=200, centers=5, random_state=0)\n",
        "\n",
        "\n",
        "### YOUR CODE GOES HERE ###\n"
      ],
      "metadata": {
        "id": "TRnGtcLpbBNd"
      },
      "execution_count": null,
      "outputs": []
    },
    {
      "cell_type": "markdown",
      "source": [
        "## **(25pts) Question 4**\n",
        "<p align=\"justify\">\n",
        "\n",
        "The single linkage method in ```scipy``` package uses the minimum distance between two observations as the linkage criterion. This is also known as \"nearest neighbor\" linkage. In other words, the distance between two clusters is defined as the distance between their closest pairs of observations, where distance is a metric defined over the observations.\n",
        "\n",
        "In the ```scipy``` package, the linkage method can be specified as an input parameter, and the default linkage criterion is *euclidean* distance. However, the linkage function also allows to use other distance metric such as 'minkowski', 'cityblock' (Manhattan distance), 'seuclidean', 'cosine', 'correlation' etc.\n",
        "\n",
        "In this question, you are asked to implement a new distance metric function as follows:\n",
        "\n",
        "$$ d(\\bf{x},\\bf{y}) = L^{2.5} = \\left\\{ \\sum_{i,j} (x_i - y_j)^{2.5}\\right\\}^{\\frac{1}{2.5}}$$\n",
        "\n",
        "Where $x_i$ and $y_j$ are two observations.\n",
        "\n",
        "Implement the hierarchical clustering algorithm using L2.5 distance metric function on the generated blobs data, and plot the dendrogram.\n",
        "</p>\n",
        "\n",
        "**Include your code in the starter code below:**"
      ],
      "metadata": {
        "id": "6YGJVaSJRGv3"
      }
    },
    {
      "cell_type": "code",
      "source": [
        "import numpy as np\n",
        "import matplotlib.pyplot as plt\n",
        "from scipy.spatial.distance import pdist, squareform\n",
        "from scipy.cluster.hierarchy import linkage, dendrogram\n",
        "\n",
        "# Generate random blobs of data\n",
        "data, labels = make_blobs(n_samples=200, centers=3,random_state=0, cluster_std=1)\n",
        "\n",
        "### YOUR CODE GOES HERE ###"
      ],
      "metadata": {
        "id": "CY-axEO2UaAF"
      },
      "execution_count": null,
      "outputs": []
    }
  ]
}