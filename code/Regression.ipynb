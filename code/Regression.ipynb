{
  "nbformat": 4,
  "nbformat_minor": 0,
  "metadata": {
    "colab": {
      "provenance": []
    },
    "kernelspec": {
      "name": "python3",
      "display_name": "Python 3"
    },
    "language_info": {
      "name": "python"
    }
  },
  "cells": [
    {
      "cell_type": "markdown",
      "source": [
        "#**Least Squares Regression in Python**  \n",
        "\n",
        "Python performs linear regression using `LinearRegression()` on `(X, y)` data, detailed in its documentation. It also computes the coefficient of determination by squaring r_regression() output, requiring y reshaping with numpy's `ravel()`. The parameters for `r_regression()` can be found in the [r_regression documentation](https://scikit-learn.org/stable/modules/generated/sklearn.feature_selection.r_regression.html).  \n",
        "\n",
        "The code below fits a linear regression model to crab data, then provides model summary."
      ],
      "metadata": {
        "id": "veRNEZMByIyr"
      }
    },
    {
      "cell_type": "code",
      "execution_count": null,
      "metadata": {
        "id": "IGM_P8CxsRPO"
      },
      "outputs": [],
      "source": [
        "# Import packages\n",
        "\n",
        "import matplotlib.pyplot as plt\n",
        "import pandas as pd\n",
        "import numpy as np\n",
        "from sklearn.linear_model import LinearRegression\n",
        "from sklearn.feature_selection import r_regression"
      ]
    },
    {
      "cell_type": "code",
      "source": [
        "# Import data\n",
        "crabs = pd.read_csv('crab-groups.csv')\n",
        "\n",
        "# Store relevant columns as variables\n",
        "X = crabs[['latitude']].values.reshape(-1, 1)\n",
        "y = crabs[['mean_mm']].values.reshape(-1, 1)"
      ],
      "metadata": {
        "id": "CUXwhqgHypns"
      },
      "execution_count": null,
      "outputs": []
    },
    {
      "cell_type": "code",
      "source": [
        "# Fit a least squares regression model\n",
        "linModel = LinearRegression()\n",
        "linModel.fit(X, y)\n",
        "yPredicted = linModel.predict(X)\n",
        "\n",
        "# Graph the model\n",
        "plt.scatter(X, y, color='black')\n",
        "plt.plot(X, yPredicted, color='blue', linewidth=2)\n",
        "plt.xlabel('Latitude', fontsize=14)\n",
        "plt.ylabel('Mean length (mm)', fontsize=14)"
      ],
      "metadata": {
        "id": "skrqgkXsyrwI"
      },
      "execution_count": null,
      "outputs": []
    },
    {
      "cell_type": "code",
      "source": [
        "# Graph the residuals\n",
        "plt.scatter(X, y, color='black')\n",
        "plt.plot(X, yPredicted, color='blue', linewidth=2)\n",
        "for i in range(len(X)):\n",
        "    plt.plot([X[i], X[i]], [y[i], yPredicted[i]], color='grey', linewidth=1)\n",
        "plt.xlabel('Latitude', fontsize=14)\n",
        "plt.ylabel('Mean length (mm)', fontsize=14)"
      ],
      "metadata": {
        "id": "fvb2idmFytKw"
      },
      "execution_count": null,
      "outputs": []
    },
    {
      "cell_type": "code",
      "source": [
        "# Output the intercept of the least squares regression\n",
        "intercept = linModel.intercept_\n",
        "print(intercept[0])"
      ],
      "metadata": {
        "id": "FlDYyEcTyurn"
      },
      "execution_count": null,
      "outputs": []
    },
    {
      "cell_type": "code",
      "source": [
        "# Output the slope of the least squares regression\n",
        "slope = linModel.coef_\n",
        "print(slope[0][0])"
      ],
      "metadata": {
        "id": "oKoA6V6bywEg"
      },
      "execution_count": null,
      "outputs": []
    },
    {
      "cell_type": "code",
      "source": [
        "# Write the least squares model as an equation\n",
        "print(\"Predicted mean length = \", intercept[0], \" + \", slope[0][0], \"* (latitude)\")"
      ],
      "metadata": {
        "id": "7JB9BYKCyxbT"
      },
      "execution_count": null,
      "outputs": []
    },
    {
      "cell_type": "code",
      "source": [
        "# Compute the sum of squared errors for the least squares model\n",
        "SSEreg = sum((y - yPredicted) ** 2)[0]\n",
        "SSEreg"
      ],
      "metadata": {
        "id": "4M9cCg8Syy0F"
      },
      "execution_count": null,
      "outputs": []
    },
    {
      "cell_type": "code",
      "source": [
        "# Compute the sum of squared errors for the horizontal line model\n",
        "SSEyBar = sum((y - np.mean(y)) ** 2)[0]\n",
        "SSEyBar"
      ],
      "metadata": {
        "id": "BZOc4nhwyzOK"
      },
      "execution_count": null,
      "outputs": []
    },
    {
      "cell_type": "code",
      "source": [
        "# Compute the proportion of variation explained by the linear regression\n",
        "# using the sum of squared errors\n",
        "(SSEyBar - SSEreg) / (SSEyBar)"
      ],
      "metadata": {
        "id": "pCNGwZ1gy0iX"
      },
      "execution_count": null,
      "outputs": []
    },
    {
      "cell_type": "code",
      "source": [
        "# Compute the correlation coefficient r\n",
        "r = r_regression(X, np.ravel(y))[0]\n",
        "r"
      ],
      "metadata": {
        "id": "qgqqGSEYy1xP"
      },
      "execution_count": null,
      "outputs": []
    },
    {
      "cell_type": "code",
      "source": [
        "# Compute the proportion of variation explained by the linear regression\n",
        "# using correlation coefficient\n",
        "r**2"
      ],
      "metadata": {
        "id": "aj5gYqL6y3We"
      },
      "execution_count": null,
      "outputs": []
    },
    {
      "cell_type": "code",
      "source": [
        "# Compute the proportion of variation explained by the linear regression\n",
        "# using the LinearModel object's score method\n",
        "linModel.score(X, y)"
      ],
      "metadata": {
        "id": "MQupmH7by45b"
      },
      "execution_count": null,
      "outputs": []
    },
    {
      "cell_type": "markdown",
      "source": [
        "#**Multiple Linear Regression in Python**  \n",
        "\n",
        "\n",
        "Python performs multiple regression with `LinearRegression()` on `(X, y)` where X contains input values. For polynomial regression, it employs `PolynomialFeatures()` to create a feature array. Parameters for `PolynomialFeatures()` are in its [documentation](https://scikit-learn.org/stable/modules/generated/sklearn.preprocessing.PolynomialFeatures.html).  \n",
        "\n",
        "\n",
        "The code below fits three multiple linear regression models on cars data. Models include two-feature, single-feature polynomial, and two-feature polynomial regression. Predictions slightly differ due to increased decimal precision in the code."
      ],
      "metadata": {
        "id": "EBtWFtZ8zDEP"
      }
    },
    {
      "cell_type": "code",
      "source": [
        "# Import packages\n",
        "import matplotlib.pyplot as plt\n",
        "import pandas as pd\n",
        "import numpy as np\n",
        "from sklearn.linear_model import LinearRegression\n",
        "from sklearn.preprocessing import PolynomialFeatures\n",
        "from mpl_toolkits import mplot3d"
      ],
      "metadata": {
        "id": "3-c-PmDsze7l"
      },
      "execution_count": null,
      "outputs": []
    },
    {
      "cell_type": "code",
      "source": [
        "# Load the dataset\n",
        "mpg = pd.read_csv('mpg.csv')\n",
        "\n",
        "# Remove rows that have missing fields\n",
        "mpg = mpg.dropna()\n",
        "\n",
        "# Store relevant columns as variables\n",
        "X = mpg[['acceleration', 'weight']].values.reshape(-1, 2)\n",
        "y = mpg[['mpg']].values.reshape(-1, 1)"
      ],
      "metadata": {
        "id": "L25GRcIkzgas"
      },
      "execution_count": null,
      "outputs": []
    },
    {
      "cell_type": "code",
      "source": [
        "# Graph acceleration vs MPG\n",
        "plt.scatter(X[:, 0], y, color='black')\n",
        "plt.xlabel('Acceleration', fontsize=14)\n",
        "plt.ylabel('MPG', fontsize=14)"
      ],
      "metadata": {
        "id": "9elC1jMhzhv0"
      },
      "execution_count": null,
      "outputs": []
    },
    {
      "cell_type": "code",
      "source": [
        "# Graph weight vs MPG\n",
        "plt.scatter(X[:, 1], y, color='black')\n",
        "plt.xlabel('Weight', fontsize=14)\n",
        "plt.ylabel('MPG', fontsize=14)"
      ],
      "metadata": {
        "id": "UayzHHEfzjJe"
      },
      "execution_count": null,
      "outputs": []
    },
    {
      "cell_type": "code",
      "source": [
        "# Fit a least squares multiple linear regression model\n",
        "linModel = LinearRegression()\n",
        "linModel.fit(X, y)\n",
        "\n",
        "# Write the least squares model as an equation\n",
        "print(\n",
        "    \"Predicted MPG = \",\n",
        "    linModel.intercept_[0],\n",
        "    \" + \",\n",
        "    linModel.coef_[0][0],\n",
        "    \"* (Acceleration)\",\n",
        "    \" + \",\n",
        "    linModel.coef_[0][1],\n",
        "    \"* (Weight)\",\n",
        ")"
      ],
      "metadata": {
        "id": "esye3kIezkon"
      },
      "execution_count": null,
      "outputs": []
    },
    {
      "cell_type": "code",
      "source": [
        "# Set up the figure\n",
        "fig = plt.figure()\n",
        "ax = plt.axes(projection='3d')\n",
        "# Plot the points\n",
        "ax.scatter3D(X[:, 0], X[:, 1], y, color=\"Black\")\n",
        "# Plot the regression as a plane\n",
        "xDeltaAccel, xDeltaWeight = np.meshgrid(\n",
        "    np.linspace(X[:, 0].min(), X[:, 0].max(), 2),\n",
        "    np.linspace(X[:, 1].min(), X[:, 1].max(), 2),\n",
        ")\n",
        "yDeltaMPG = (\n",
        "    linModel.intercept_[0]\n",
        "    + linModel.coef_[0][0] * xDeltaAccel\n",
        "    + linModel.coef_[0][1] * xDeltaWeight\n",
        ")\n",
        "ax.plot_surface(xDeltaAccel, xDeltaWeight, yDeltaMPG, alpha=0.5)\n",
        "# Axes labels\n",
        "ax.set_xlabel('Acceleration')\n",
        "ax.set_ylabel('Weight')\n",
        "ax.set_zlabel('MPG')\n",
        "# Set the view angle\n",
        "ax.view_init(30, 50)\n",
        "ax.set_xlim(28, 9)"
      ],
      "metadata": {
        "id": "GV8DWS0czl_e"
      },
      "execution_count": null,
      "outputs": []
    },
    {
      "cell_type": "code",
      "source": [
        "# Make a prediction\n",
        "yMultyPredicted = linModel.predict([[20, 3000]])\n",
        "print(\n",
        "    \"Predicted MPG for a car with acceleration = 20 seconds and Weight = 3000 pounds \\n\",\n",
        "    \"using the multiple linear regression is \",\n",
        "    yMultyPredicted[0][0],\n",
        "    \"miles per gallon\",\n",
        ")"
      ],
      "metadata": {
        "id": "HGNwlvaOznl7"
      },
      "execution_count": null,
      "outputs": []
    },
    {
      "cell_type": "code",
      "source": [
        "# Store weight as an array\n",
        "X2 = X[:, 1].reshape(-1, 1)\n",
        "\n",
        "# Fit a quadratic regression model using just Weight\n",
        "polyFeatures = PolynomialFeatures(degree=2, include_bias=False)\n",
        "xPoly = polyFeatures.fit_transform(X2)\n",
        "polyModel = LinearRegression()\n",
        "polyModel.fit(xPoly, y)\n",
        "\n",
        "# Graph the quadratic regression\n",
        "plt.scatter(X2, y, color='black')\n",
        "xDelta = np.linspace(X2.min(), X2.max(), 1000)\n",
        "yDelta = polyModel.predict(polyFeatures.fit_transform(xDelta.reshape(-1, 1)))\n",
        "plt.plot(xDelta, yDelta, color='blue', linewidth=2)\n",
        "plt.xlabel('Weight', fontsize=14)\n",
        "plt.ylabel('MPG', fontsize=14)\n",
        "\n",
        "# Write the quadratic model as an equation\n",
        "print(\n",
        "    \"Predicted MPG = \",\n",
        "    polyModel.intercept_[0],\n",
        "    \" + \",\n",
        "    polyModel.coef_[0][0],\n",
        "    \"* (Weight)\",\n",
        "    \" + \",\n",
        "    polyModel.coef_[0][1],\n",
        "    \"* (Weight)^2\",\n",
        ")"
      ],
      "metadata": {
        "id": "KubQmYvlzpDc"
      },
      "execution_count": null,
      "outputs": []
    },
    {
      "cell_type": "code",
      "source": [
        "# Make a prediction\n",
        "polyInputs = polyFeatures.fit_transform([[3000]])\n",
        "yPolyPredicted = polyModel.predict(polyInputs)\n",
        "print(\n",
        "    \"Predicted MPG for a car with Weight = 3000 pounds \\n\",\n",
        "    \"using the simple polynomial regression is \", yPolyPredicted[0][0], \"miles per gallon\",\n",
        ")"
      ],
      "metadata": {
        "id": "L1Iq2v0ezq3O"
      },
      "execution_count": null,
      "outputs": []
    },
    {
      "cell_type": "code",
      "source": [
        "# Fit a quadratic regression model using acceleration and weight\n",
        "polyFeatures2 = PolynomialFeatures(degree=2, include_bias=False)\n",
        "xPoly2 = polyFeatures.fit_transform(X)\n",
        "polyModel2 = LinearRegression()\n",
        "polyModel2.fit(xPoly2, y)\n",
        "\n",
        "# Write the quadratic regression as an equation\n",
        "print(\n",
        "    \"Predicted MPG =\", polyModel2.intercept_[0], \"\\n\",\n",
        "    \" + \", polyModel2.coef_[0][0], \"* (Acceleration)\\n\",\n",
        "    \" + \", polyModel2.coef_[0][1], \"* (Weight)\", \"\\n\",\n",
        "    \" + \", polyModel2.coef_[0][2], \"* (Acceleration)^2 \\n\",\n",
        "    \" + \", polyModel2.coef_[0][3], \"* (Acceleration)*(Weight) \\n\",\n",
        "    \" + \", polyModel2.coef_[0][4], \"* (Weight)^2 \\n\",\n",
        ")"
      ],
      "metadata": {
        "id": "l669uvJwzsWX"
      },
      "execution_count": null,
      "outputs": []
    },
    {
      "cell_type": "code",
      "source": [
        "# Make a prediction\n",
        "polyInputs2 = polyFeatures2.fit_transform([[20, 3000]])\n",
        "yPolyPredicted2 = polyModel2.predict(polyInputs2)\n",
        "print(\n",
        "    \"Predicted MPG for a car with acceleration = 20 seconds and Weight = 3000 pounds \\n\",\n",
        "    \"using the polynomial regression is \", yPolyPredicted2[0][0], \"miles per gallon\",\n",
        ")"
      ],
      "metadata": {
        "id": "KHWQhMapzt4t"
      },
      "execution_count": null,
      "outputs": []
    },
    {
      "cell_type": "markdown",
      "source": [
        "#**Logistic Regression in Python**\n",
        "\n",
        "\n",
        "Python performs logistic regression using `LogisticRegression()` on `(X, y)` data, where y is binary. Parameters and methods are in its [documentation](https://scikit-learn.org/stable/modules/generated/sklearn.linear_model.LogisticRegression.html). If categorical data isn't *one-hot encoded*, pandas DataFrame operations can reassign labels to 0 or 1.  \n",
        "\n",
        "\n",
        "The code below fits a logistic regression model on Wisconsin breast cancer data, graphing the diagnosis variable with hot encoding. It also plots the log-odds linear classifier for comparison."
      ],
      "metadata": {
        "id": "eI5yr8X4zwwS"
      }
    },
    {
      "cell_type": "code",
      "source": [
        "# Import packages\n",
        "import pandas as pd\n",
        "import numpy as np\n",
        "import matplotlib.pyplot as plt\n",
        "from sklearn.linear_model import LogisticRegression"
      ],
      "metadata": {
        "id": "q4EYO51H0LLz"
      },
      "execution_count": null,
      "outputs": []
    },
    {
      "cell_type": "code",
      "source": [
        "# Load the Wisconsin Breast Cancer dataset\n",
        "WBCD = pd.read_csv(\"WisconsinBreastCancerDatabase.csv\")\n",
        "# Convert Diagnosis to 0 and 1.\n",
        "WBCD.loc[WBCD['Diagnosis'] == 'B', 'Diagnosis'] = 0\n",
        "WBCD.loc[WBCD['Diagnosis'] == 'M', 'Diagnosis'] = 1\n",
        "WBCD"
      ],
      "metadata": {
        "id": "xoP0rkXC0MZL"
      },
      "execution_count": null,
      "outputs": []
    },
    {
      "cell_type": "code",
      "source": [
        "# Store relevant columns as variables\n",
        "X = WBCD[['Radius mean']].values.reshape(-1, 1)\n",
        "y = WBCD[['Diagnosis']].values.reshape(-1, 1).astype(int)"
      ],
      "metadata": {
        "id": "Ic3cTwW50Nx4"
      },
      "execution_count": null,
      "outputs": []
    },
    {
      "cell_type": "code",
      "source": [
        "# Logistic regression predicting diagnosis from tumor radius\n",
        "logisticModel = LogisticRegression()\n",
        "logisticModel.fit(X, np.ravel(y.astype(int)))\n",
        "\n",
        "# Graph logistic regression probabilities\n",
        "plt.scatter(X, y)\n",
        "xDelta = np.linspace(X.min(), X.max(), 10000)\n",
        "yPredicted = logisticModel.predict(X).reshape(-1, 1).astype(int)\n",
        "yDeltaProb = logisticModel.predict_proba(xDelta.reshape(-1, 1))[:, 1]\n",
        "plt.plot(xDelta, yDeltaProb, color='red')\n",
        "plt.xlabel('Radius', fontsize=14)\n",
        "plt.ylabel('Probability of malignant tumor', fontsize=14)"
      ],
      "metadata": {
        "id": "ID9bEloy0PF7"
      },
      "execution_count": null,
      "outputs": []
    },
    {
      "cell_type": "code",
      "source": [
        "# Display the slope parameter estimate\n",
        "logisticModel.coef_"
      ],
      "metadata": {
        "id": "PKSbAkOE0QpM"
      },
      "execution_count": null,
      "outputs": []
    },
    {
      "cell_type": "code",
      "source": [
        "# Display the intercept parameter estimate\n",
        "logisticModel.intercept_"
      ],
      "metadata": {
        "id": "QOmsuxhF0R8_"
      },
      "execution_count": null,
      "outputs": []
    },
    {
      "cell_type": "code",
      "source": [
        "# Predict the probability a tumor with radius mean 13 is benign / malignant\n",
        "pHatProb = logisticModel.predict_proba([[13]])\n",
        "pHatProb[0]"
      ],
      "metadata": {
        "id": "yUI6qTgf0TTY"
      },
      "execution_count": null,
      "outputs": []
    },
    {
      "cell_type": "code",
      "source": [
        "# Classify whether tumor with radius mean 13 is benign (0) or malignant (1)\n",
        "pHat = logisticModel.predict([[13]])\n",
        "pHat[0]"
      ],
      "metadata": {
        "id": "5I4OyPRb0Uoj"
      },
      "execution_count": null,
      "outputs": []
    },
    {
      "cell_type": "code",
      "source": [
        "print(\n",
        "    \"A tumor with radius mean 13 has predicted probability: \\n\",\n",
        "    pHatProb[0][0],\n",
        "    \"of being benign\\n\",\n",
        "    pHatProb[0][1],\n",
        "    \"of being malignant\\n\",\n",
        "    \"and overall is classified to be benign\",\n",
        ")"
      ],
      "metadata": {
        "id": "sufVt9q00VAj"
      },
      "execution_count": null,
      "outputs": []
    }
  ]
}