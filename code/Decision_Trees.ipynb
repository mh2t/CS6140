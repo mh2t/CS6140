{
  "nbformat": 4,
  "nbformat_minor": 0,
  "metadata": {
    "colab": {
      "provenance": []
    },
    "kernelspec": {
      "name": "python3",
      "display_name": "Python 3"
    },
    "language_info": {
      "name": "python"
    }
  },
  "cells": [
    {
      "cell_type": "markdown",
      "source": [
        "#**Constructing Regression Trees in Python**  \n",
        "\n",
        "`DecisionTreeRegressor` creates a regression tree named `regTree`. It has a max depth of 3, requires 5 points for a split, and 2 points in each leaf. Additional parameters/values are in [scikit-learn docs](https://scikit-learn.org/stable/modules/generated/sklearn.tree.DecisionTreeRegressor.html). Fit the tree using `regTree.fit(X, y)` with features in X and outcomes in y.  \n",
        "\n",
        "The Python code below fits a regression tree for predicting body mass based on flipper length and bill length for the Palmer penguins dataset."
      ],
      "metadata": {
        "id": "YcJLMWDW-fOh"
      }
    },
    {
      "cell_type": "code",
      "source": [
        "!pip install palmerpenguins"
      ],
      "metadata": {
        "id": "nHRLDo1q4v0A"
      },
      "execution_count": null,
      "outputs": []
    },
    {
      "cell_type": "code",
      "execution_count": null,
      "metadata": {
        "id": "JfzlGSxU-db9"
      },
      "outputs": [],
      "source": [
        "# Import packages and functions\n",
        "import pandas as pd\n",
        "import seaborn as sns\n",
        "import matplotlib.pyplot as plt\n",
        "\n",
        "from sklearn.tree import DecisionTreeRegressor, export_text\n",
        "from sklearn import tree, metrics\n",
        "from palmerpenguins import load_penguins\n",
        "\n",
        "import matplotlib_inline.backend_inline\n",
        "\n",
        "matplotlib_inline.backend_inline.set_matplotlib_formats('svg')"
      ]
    },
    {
      "cell_type": "code",
      "source": [
        "# Load the penguins data from palmerpenguins package\n",
        "penguins = load_penguins()\n",
        "\n",
        "# Drop penguins with missing values\n",
        "penguins = penguins.dropna()\n",
        "\n",
        "# Create a new data frame with only Gentoo penguins\n",
        "gentoo = penguins[penguins['species'] == 'Gentoo'].copy()\n",
        "\n",
        "# Calculate summary statistics using .describe()\n",
        "gentoo.describe(include='all')"
      ],
      "metadata": {
        "id": "YHROOnvk-9IL"
      },
      "execution_count": null,
      "outputs": []
    },
    {
      "cell_type": "code",
      "source": [
        "# Create a matrix of input features with sex, flipper length, and bill length\n",
        "X = gentoo[['sex', 'flipper_length_mm', 'bill_length_mm']]\n",
        "X"
      ],
      "metadata": {
        "id": "PbGnEzhu-_gQ"
      },
      "execution_count": null,
      "outputs": []
    },
    {
      "cell_type": "markdown",
      "source": [
        "`DecisionTreeRegressor` accepts only numerical features, so non-numeric ones like `sex` and `island` need encoding as dummy variables using `get_dummies` from `pandas`."
      ],
      "metadata": {
        "id": "8REzP1cw_C3P"
      }
    },
    {
      "cell_type": "code",
      "source": [
        "# Use pd.get_dummies to convert sex to a binary (0/1) dummy variable\n",
        "X_dummies = pd.get_dummies(X, drop_first=True)\n",
        "X_dummies"
      ],
      "metadata": {
        "id": "ZINpAdmh_I3u"
      },
      "execution_count": null,
      "outputs": []
    },
    {
      "cell_type": "markdown",
      "source": [
        "Setting `drop_first=True` generates a single dummy variable, sufficient to represent sex in the dataset.\n",
        "\n",
        "- `sex_male=0`: female\n",
        "- `sex_male=1`: male"
      ],
      "metadata": {
        "id": "UNN1PHTG_MBb"
      }
    },
    {
      "cell_type": "code",
      "source": [
        "y = gentoo['body_mass_g']\n",
        "\n",
        "regtreeModel = DecisionTreeRegressor(max_depth=2, min_samples_leaf=2)\n",
        "regtreeModel.fit(X_dummies, y)"
      ],
      "metadata": {
        "id": "563YlAdv_R4B"
      },
      "execution_count": null,
      "outputs": []
    },
    {
      "cell_type": "code",
      "source": [
        "# The print() statement outputs a text version of the regression tree\n",
        "print(export_text(regtreeModel, feature_names=X.columns.to_list()))"
      ],
      "metadata": {
        "id": "3FWx6-N7_Vn1"
      },
      "execution_count": null,
      "outputs": []
    },
    {
      "cell_type": "code",
      "source": [
        "# Using tree.plot_tree() makes a cleaner figure\n",
        "\n",
        "# Resize the plotting window\n",
        "plt.figure(figsize=[12, 8])\n",
        "\n",
        "p = tree.plot_tree(\n",
        "    regtreeModel,\n",
        "    feature_names=X.columns,\n",
        "    class_names=y.unique(),\n",
        "    filled=False,\n",
        "    fontsize=10,\n",
        ")"
      ],
      "metadata": {
        "id": "xwf0jE56_XIe"
      },
      "execution_count": null,
      "outputs": []
    },
    {
      "cell_type": "code",
      "source": [
        "# Add the predictions to the original data set\n",
        "gentoo['pred'] = regtreeModel.predict(X_dummies)\n",
        "gentoo"
      ],
      "metadata": {
        "id": "0HQ0NJAy_YiJ"
      },
      "execution_count": null,
      "outputs": []
    },
    {
      "cell_type": "code",
      "source": [
        "# Plot observed vs. predictions\n",
        "p = sns.scatterplot(data=gentoo, x='body_mass_g', y='pred', hue='sex')\n",
        "p.set_xlabel('Observed body mass', fontsize=14)\n",
        "p.set_ylabel('Predicted body mass', fontsize=14)"
      ],
      "metadata": {
        "id": "qKRO4he-_Z_q"
      },
      "execution_count": null,
      "outputs": []
    },
    {
      "cell_type": "code",
      "source": [
        "# Calculate MSE\n",
        "metrics.mean_squared_error(gentoo['pred'], y)"
      ],
      "metadata": {
        "id": "uB-q_9UK_bcY"
      },
      "execution_count": null,
      "outputs": []
    },
    {
      "cell_type": "markdown",
      "source": [
        "#**Constructing Classification Trees in Python**  \n",
        "\n",
        "`DecisionTreeClassifier` creates a classification tree called `classTree` with max depth 3, requires 5 points for a split, and 1 point in each leaf. Find more parameters/values in [scikit-learn docs](https://scikit-learn.org/stable/modules/generated/sklearn.tree.DecisionTreeClassifier.html). To use it, fit the tree with `classTree.fit(X, y)` where X holds features and y is the outcome.  \n",
        "\n",
        "The Python code below fits a classification tree for predicting species based on flipper length and bill length for the Palmer penguins dataset."
      ],
      "metadata": {
        "id": "PlHYXIlb_gQu"
      }
    },
    {
      "cell_type": "code",
      "source": [
        "# Import packages and functions\n",
        "import pandas as pd\n",
        "import matplotlib.pyplot as plt\n",
        "from sklearn.tree import DecisionTreeClassifier, export_text\n",
        "from sklearn import metrics, tree\n",
        "\n",
        "from palmerpenguins import load_penguins"
      ],
      "metadata": {
        "id": "EEHPLmtB_rgv"
      },
      "execution_count": null,
      "outputs": []
    },
    {
      "cell_type": "code",
      "source": [
        "# Load the penguins data from palmerpenguins module\n",
        "penguins = load_penguins()\n",
        "\n",
        "# Drop penguins with missing values\n",
        "penguins = penguins.dropna()\n",
        "\n",
        "# Calculate summary statistics using .describe()\n",
        "penguins.describe(include='all')"
      ],
      "metadata": {
        "id": "03ZU0FJB_s0E"
      },
      "execution_count": null,
      "outputs": []
    },
    {
      "cell_type": "code",
      "source": [
        "# Save output features as y\n",
        "y = penguins[['species']]\n",
        "\n",
        "# Save input features as x\n",
        "X = penguins[['flipper_length_mm', 'bill_length_mm']]\n",
        "\n",
        "# Initialize the model\n",
        "classtreeModel = DecisionTreeClassifier(max_depth=2)\n",
        "\n",
        "# Fit the model\n",
        "classtreeModel = classtreeModel.fit(X, y)"
      ],
      "metadata": {
        "id": "-wPkquLt_uI3"
      },
      "execution_count": null,
      "outputs": []
    },
    {
      "cell_type": "code",
      "source": [
        "# Print tree as text\n",
        "print(export_text(classtreeModel, feature_names=X.columns.to_list()))"
      ],
      "metadata": {
        "id": "Klhfd1tR_w0B"
      },
      "execution_count": null,
      "outputs": []
    },
    {
      "cell_type": "code",
      "source": [
        "# Resize the plotting window\n",
        "plt.figure(figsize=[12, 8])\n",
        "\n",
        "# Values in brackets represent classes in alphabetical order\n",
        "# [Adelie, Chinstrap, Gentoo]\n",
        "p = tree.plot_tree(classtreeModel, feature_names=X.columns, filled=False, fontsize=10)"
      ],
      "metadata": {
        "id": "sm3lPBgv_yLx"
      },
      "execution_count": null,
      "outputs": []
    },
    {
      "cell_type": "code",
      "source": [
        "# Calculate cross-entroy and error rate\n",
        "\n",
        "print(\"Cross-entropy: \", metrics.log_loss(y, classtreeModel.predict_proba(X)))\n",
        "print(\"Error rate: \", 1 - metrics.accuracy_score(y, classtreeModel.predict(X)))\n",
        "\n",
        "# Calculate the confusion matrix\n",
        "metrics.confusion_matrix(y, classtreeModel.predict(X))\n",
        "\n",
        "# Plot the confusion matrix\n",
        "metrics.ConfusionMatrixDisplay.from_predictions(y, classtreeModel.predict(X))"
      ],
      "metadata": {
        "id": "u1Rd8kpc_z0B"
      },
      "execution_count": null,
      "outputs": []
    },
    {
      "cell_type": "code",
      "source": [
        "# Calculate the Gini index\n",
        "probs = pd.DataFrame(data=classtreeModel.predict_proba(X))\n",
        "\n",
        "print(\"Gini index: \", (probs * (1 - probs)).mean().sum())"
      ],
      "metadata": {
        "id": "EXSNxTGF_1Yu"
      },
      "execution_count": null,
      "outputs": []
    },
    {
      "cell_type": "markdown",
      "source": [
        "#**Constructing Classification Random Forests in Python**  \n",
        "\n",
        "`RandomForestClassifier` creates a random forest model called `rfc`. It uses 100 trees, 'sqrt' features per node, 'gini' criterion, and bootstrapping. More details in [scikit-learn docs](https://scikit-learn.org/stable/modules/generated/sklearn.ensemble.RandomForestClassifier.html). Fit it with `rfc.fit(X, y)` using X for features and y for outcomes.  \n",
        "\n",
        "\n",
        "The Python code below fits a classification random forest for predicting species of penguins from the Palmer Penguins dataset."
      ],
      "metadata": {
        "id": "xvhPleQg_5P_"
      }
    },
    {
      "cell_type": "code",
      "source": [
        "# Import packages and functions\n",
        "import pandas as pd\n",
        "import matplotlib.pyplot as plt\n",
        "\n",
        "from sklearn import metrics, tree\n",
        "from sklearn.ensemble import RandomForestClassifier\n",
        "from sklearn.model_selection import train_test_split\n",
        "from palmerpenguins import load_penguins"
      ],
      "metadata": {
        "id": "FOdsPML7AJhP"
      },
      "execution_count": null,
      "outputs": []
    },
    {
      "cell_type": "code",
      "source": [
        "# Load the penguins data from palmerpenguins module\n",
        "penguins = load_penguins()\n",
        "\n",
        "# Drop penguins with missing values\n",
        "penguins = penguins.dropna()\n",
        "\n",
        "# Calculate summary statistics using .describe()\n",
        "penguins.describe(include='all')"
      ],
      "metadata": {
        "id": "IJqwFrqjAK6O"
      },
      "execution_count": null,
      "outputs": []
    },
    {
      "cell_type": "code",
      "source": [
        "# y = output features\n",
        "y = penguins['species']\n",
        "\n",
        "# X = input features\n",
        "X = penguins.drop('species', axis=1)\n",
        "\n",
        "# Convert categorical inputs like species and island into dummy variables\n",
        "X = pd.get_dummies(X, drop_first=True)\n",
        "\n",
        "X"
      ],
      "metadata": {
        "id": "aizdEDbsAMYu"
      },
      "execution_count": null,
      "outputs": []
    },
    {
      "cell_type": "code",
      "source": [
        "# Create a training/testing split\n",
        "X_train, X_test, y_train, y_test = train_test_split(\n",
        "    X, y, test_size=0.3, random_state=8675309\n",
        ")\n",
        "\n",
        "# Initialize the random forest model\n",
        "rfModel = RandomForestClassifier(max_depth=2, max_features='sqrt', random_state=99)\n",
        "\n",
        "# Fit the random forest model on the training data\n",
        "rfModel.fit(X_train, y_train)"
      ],
      "metadata": {
        "id": "6r39puwVAO8h"
      },
      "execution_count": null,
      "outputs": []
    },
    {
      "cell_type": "code",
      "source": [
        "pd.DataFrame(\n",
        "    data={\n",
        "        'feature': rfModel.feature_names_in_,\n",
        "        'importance': rfModel.feature_importances_,\n",
        "    }\n",
        ").sort_values('importance', ascending=False)"
      ],
      "metadata": {
        "id": "m-UaTjmWAQSM"
      },
      "execution_count": null,
      "outputs": []
    },
    {
      "cell_type": "code",
      "source": [
        "# Predict species on the testing data\n",
        "y_pred = rfModel.predict(X_test)"
      ],
      "metadata": {
        "id": "o52h0XFpASiS"
      },
      "execution_count": null,
      "outputs": []
    },
    {
      "cell_type": "code",
      "source": [
        "# Calculate a confusion matrix\n",
        "metrics.confusion_matrix(y_test, y_pred)\n",
        "\n",
        "# Plot the confusion matrix\n",
        "metrics.ConfusionMatrixDisplay.from_predictions(y_test, y_pred)"
      ],
      "metadata": {
        "id": "5J5xh9YuAT1z"
      },
      "execution_count": null,
      "outputs": []
    },
    {
      "cell_type": "code",
      "source": [
        "# Calculate the Gini index\n",
        "probs = pd.DataFrame(data=rfModel.predict_proba(X_test))\n",
        "print(\"Gini index \", (probs * (1 - probs)).mean().sum())"
      ],
      "metadata": {
        "id": "NtHl1mP5AVJJ"
      },
      "execution_count": null,
      "outputs": []
    },
    {
      "cell_type": "code",
      "source": [
        "# Save the first random forest tree as singleTree\n",
        "singleTree = rfModel.estimators_[0]\n",
        "\n",
        "# Set image size\n",
        "plt.figure(figsize=[15, 8])\n",
        "\n",
        "# Plot a single regression tree\n",
        "tree.plot_tree(singleTree, feature_names=X.columns, filled=False, fontsize=10)"
      ],
      "metadata": {
        "id": "Mm8RxX6DAWU6"
      },
      "execution_count": null,
      "outputs": []
    },
    {
      "cell_type": "markdown",
      "source": [
        "#**Constructing Regression Random Forests in Python**  \n",
        "\n",
        "`RandomForestRegressor` initializes a regression random forest model named `rfr`. It uses 100 trees, squared error metric, and square root of features for node choice. Find more parameters/values in [scikit-learn docs](https://scikit-learn.org/stable/modules/generated/sklearn.ensemble.RandomForestRegressor.html). Fit it with `rfr.fit(X, y)` using X for features and y for outcomes.  \n",
        "\n",
        "The Python code below fits a regression random forest for predicting body mass of penguins from the Palmer Penguins dataset.\n",
        "\n"
      ],
      "metadata": {
        "id": "h0SNcTHWAZBL"
      }
    },
    {
      "cell_type": "code",
      "source": [
        "# Import packages and functions\n",
        "\n",
        "import pandas as pd\n",
        "import matplotlib.pyplot as plt\n",
        "import seaborn as sns\n",
        "\n",
        "from sklearn import metrics, tree\n",
        "from sklearn.ensemble import RandomForestRegressor\n",
        "from sklearn.model_selection import train_test_split\n",
        "from palmerpenguins import load_penguins"
      ],
      "metadata": {
        "id": "bxQDjWIFAmAB"
      },
      "execution_count": null,
      "outputs": []
    },
    {
      "cell_type": "code",
      "source": [
        "# Load the penguins data from palmerpenguins module\n",
        "penguins = load_penguins()\n",
        "\n",
        "# Drop penguins with missing values\n",
        "penguins = penguins.dropna()\n",
        "\n",
        "# Calculate summary statistics using .describe()\n",
        "penguins.describe(include='all')"
      ],
      "metadata": {
        "id": "xzXg3wkLAnWU"
      },
      "execution_count": null,
      "outputs": []
    },
    {
      "cell_type": "code",
      "source": [
        "# Random forest models require all numerical inputs\n",
        "# Convert categorical inputs like species and island into binary indicators\n",
        "\n",
        "penguinDummies = pd.get_dummies(penguins, drop_first=True)\n",
        "\n",
        "# Ex: species_Chinstrap = {1 if Chinstrap, 0 else}\n",
        "penguinDummies"
      ],
      "metadata": {
        "id": "JLKrHYBqAoSg"
      },
      "execution_count": null,
      "outputs": []
    },
    {
      "cell_type": "code",
      "source": [
        "# Save output features as y\n",
        "y = penguinDummies[\"body_mass_g\"]\n",
        "\n",
        "# Save input features as X\n",
        "X = penguinDummies.drop(\"body_mass_g\", axis=1)\n",
        "\n",
        "# Create a training/testing split\n",
        "# 30% of instances held out for testing\n",
        "# 70% of instances used for training\n",
        "X_train, X_test, y_train, y_test = train_test_split(\n",
        "    X, y, test_size=0.3, random_state=8675309\n",
        ")\n",
        "\n",
        "# Define a regression random forest model\n",
        "rfModel = RandomForestRegressor(max_depth=2, max_features='sqrt', random_state=99)\n",
        "\n",
        "# Fit the model\n",
        "rfModel.fit(X_train, y_train)"
      ],
      "metadata": {
        "id": "wsfqfL59ArsD"
      },
      "execution_count": null,
      "outputs": []
    },
    {
      "cell_type": "code",
      "source": [
        "pd.DataFrame(\n",
        "    data={\n",
        "        'feature': rfModel.feature_names_in_,\n",
        "        'importance': rfModel.feature_importances_,\n",
        "    }\n",
        ").sort_values('importance', ascending=False)"
      ],
      "metadata": {
        "id": "AdtGzSF_AtNk"
      },
      "execution_count": null,
      "outputs": []
    },
    {
      "cell_type": "code",
      "source": [
        "# Predict body mass on the testing data\n",
        "y_pred = rfModel.predict(X_test)"
      ],
      "metadata": {
        "id": "EzSSW4TyAumq"
      },
      "execution_count": null,
      "outputs": []
    },
    {
      "cell_type": "code",
      "source": [
        "# Compare testing predictions to actual values\n",
        "p = sns.scatterplot(x=y_test, y=y_pred)\n",
        "p.set_xlabel(\"Actual values\", fontsize=14)\n",
        "p.set_ylabel(\"Predicted values\", fontsize=14)\n",
        "\n",
        "# Add a diagonal line\n",
        "# If the testing predictions are close to the actual values,\n",
        "# points should fall along this line\n",
        "plt.axline((3000, 3000), (6000, 6000), color='r', ls='--')"
      ],
      "metadata": {
        "id": "euv0Gq2hAv4p"
      },
      "execution_count": null,
      "outputs": []
    },
    {
      "cell_type": "code",
      "source": [
        "# Print mean squared error (MSE)\n",
        "print(\"MSE: \", metrics.mean_squared_error(y_test, y_pred))"
      ],
      "metadata": {
        "id": "obJKHb2EAxlx"
      },
      "execution_count": null,
      "outputs": []
    },
    {
      "cell_type": "code",
      "source": [
        "# Save the first random forest tree as singleTree\n",
        "singleTree = rfModel.estimators_[0]\n",
        "\n",
        "# Set image size\n",
        "plt.figure(figsize=[18, 6])\n",
        "\n",
        "# Plot a single regression tree\n",
        "tree.plot_tree(singleTree, feature_names=X.columns, filled=False, fontsize=10)"
      ],
      "metadata": {
        "id": "22Ix7bHKAy-u"
      },
      "execution_count": null,
      "outputs": []
    },
    {
      "cell_type": "code",
      "source": [
        "# Calculate predictions from the single tree\n",
        "y_pred_single = singleTree.predict(X_test)\n",
        "\n",
        "# Which has lower error: the single tree or the random forest?\n",
        "print(\"MSE single tree: \", metrics.mean_squared_error(y_test, y_pred_single))"
      ],
      "metadata": {
        "id": "dAm4j-0sA0uz"
      },
      "execution_count": null,
      "outputs": []
    }
  ]
}