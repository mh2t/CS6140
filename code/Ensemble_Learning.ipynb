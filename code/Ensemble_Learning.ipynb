{
  "nbformat": 4,
  "nbformat_minor": 0,
  "metadata": {
    "colab": {
      "provenance": []
    },
    "kernelspec": {
      "name": "python3",
      "display_name": "Python 3"
    },
    "language_info": {
      "name": "python"
    }
  },
  "cells": [
    {
      "cell_type": "markdown",
      "source": [
        "#**AdaBoost Classification in Python**  \n",
        "\n",
        "`AdaBoostClassifier()` creates and fits an adaptive boosting classifier. The most common parameters are base_estimator and `n_estimators`.\n",
        "\n",
        "Additional parameters and attributes for `AdaBoostClassifier()` can be found in the [AdaBoostClassifier documentation](https://scikit-learn.org/stable/modules/generated/sklearn.ensemble.AdaBoostClassifier.html#sklearn.ensemble.AdaBoostClassifier).  \n",
        "\n",
        "This dataset comprises 2013 flight data from New York City airports (JFK, La Guardia, and Newark), including destination, scheduled departure time, duration, and delay status.  \n",
        "\n",
        "The Python code below fits a classification boosting model to predict whether a flight is delayed based on weather conditions.\n",
        "\n"
      ],
      "metadata": {
        "id": "1eIpVuNHlIWM"
      }
    },
    {
      "cell_type": "code",
      "execution_count": null,
      "metadata": {
        "id": "ZLEpfRjflHV7"
      },
      "outputs": [],
      "source": [
        "# Imprt packages and data\n",
        "import pandas as pd\n",
        "import numpy as np\n",
        "\n",
        "from sklearn.tree import DecisionTreeClassifier\n",
        "from sklearn.naive_bayes import GaussianNB\n",
        "from sklearn.ensemble import AdaBoostClassifier\n",
        "\n",
        "flights = pd.read_csv('https://raw.githubusercontent.com/mh2t/DS5110/main/data/flights.csv').dropna()\n",
        "\n",
        "flights"
      ]
    },
    {
      "cell_type": "code",
      "source": [
        "# Create input features X and output feature y\n",
        "X = flights[\n",
        "    [\n",
        "        'temp',\n",
        "        'dewp',\n",
        "        'humid',\n",
        "        'wind_dir',\n",
        "        'wind_speed',\n",
        "        'wind_gust',\n",
        "        'precip',\n",
        "        'pressure',\n",
        "        'visib',\n",
        "    ]\n",
        "]\n",
        "y = flights[['delay']]"
      ],
      "metadata": {
        "id": "fzUqunWRluEz"
      },
      "execution_count": null,
      "outputs": []
    },
    {
      "cell_type": "code",
      "source": [
        "# Initialize the model\n",
        "boostModel = AdaBoostClassifier()\n",
        "\n",
        "# Fit the model\n",
        "boostModel = boostModel.fit(X, np.ravel(y))"
      ],
      "metadata": {
        "id": "Lg-4YsDQlvft"
      },
      "execution_count": null,
      "outputs": []
    },
    {
      "cell_type": "code",
      "source": [
        "# Prediction accuracy for AdaBoostClassifier()\n",
        "boostModel.score(X, y)"
      ],
      "metadata": {
        "id": "tSwMXIAmlwzL"
      },
      "execution_count": null,
      "outputs": []
    },
    {
      "cell_type": "code",
      "source": [
        "# Predictions from AdaBoostClassifier()\n",
        "boostModel.predict(X)"
      ],
      "metadata": {
        "id": "Tuf4V1ykly2A"
      },
      "execution_count": null,
      "outputs": []
    },
    {
      "cell_type": "code",
      "source": [
        "# Predicted class probabilities from AdaBoostClassifier()\n",
        "boostModel.predict_proba(X)"
      ],
      "metadata": {
        "id": "n7oXUP81lz9G"
      },
      "execution_count": null,
      "outputs": []
    },
    {
      "cell_type": "markdown",
      "source": [
        "#**AdaBoost Regression in Python**  \n",
        "\n",
        "The Python code below fits an AdaBoost regression model to predict temperature based on other weather conditions."
      ],
      "metadata": {
        "id": "riapfGHNl2P9"
      }
    },
    {
      "cell_type": "code",
      "source": [
        "# Import packages and data\n",
        "import pandas as pd\n",
        "import numpy as np\n",
        "\n",
        "from sklearn.ensemble import AdaBoostRegressor\n",
        "from sklearn.linear_model import LinearRegression\n",
        "\n",
        "flights = pd.read_csv('https://raw.githubusercontent.com/mh2t/DS5110/main/data/flights.csv').dropna()\n",
        "\n",
        "flights"
      ],
      "metadata": {
        "id": "Ji11ahczl7ir"
      },
      "execution_count": null,
      "outputs": []
    },
    {
      "cell_type": "code",
      "source": [
        "# Create input features X and output feature y\n",
        "X = flights[\n",
        "    [\n",
        "        'dewp',\n",
        "        'humid',\n",
        "        'wind_dir',\n",
        "        'wind_speed',\n",
        "        'wind_gust',\n",
        "        'precip',\n",
        "        'pressure',\n",
        "        'visib',\n",
        "    ]\n",
        "]\n",
        "y = flights[['temp']]"
      ],
      "metadata": {
        "id": "ynJA3aAsl891"
      },
      "execution_count": null,
      "outputs": []
    },
    {
      "cell_type": "code",
      "source": [
        "# Initialize the model\n",
        "boostModel = AdaBoostRegressor()\n",
        "\n",
        "# Fit the model\n",
        "boostModel = boostModel.fit(X, np.ravel(y))"
      ],
      "metadata": {
        "id": "q_co7HbIl-QQ"
      },
      "execution_count": null,
      "outputs": []
    },
    {
      "cell_type": "code",
      "source": [
        "# Prediction accuracy for AdaBoostRegressor()\n",
        "boostModel.score(X, y)"
      ],
      "metadata": {
        "id": "oKtbfmbyl_j9"
      },
      "execution_count": null,
      "outputs": []
    },
    {
      "cell_type": "code",
      "source": [
        "# Predictions from AdaBoostRegressor()\n",
        "boostModel.predict(X)"
      ],
      "metadata": {
        "id": "RumLFo_RmAxv"
      },
      "execution_count": null,
      "outputs": []
    },
    {
      "cell_type": "markdown",
      "source": [
        "#**Bagging Classification in Python**  \n",
        "\n",
        "`BaggingClassifier()` creates and fits a bagging classification model. The most common parameters are `base_estimator`, `n_estimators`, and `max_features`.\n",
        "\n",
        "Additional parameters and attributes for `BaggingClassifier()` can be found in the [BaggingClassifier documentation](https://scikit-learn.org/stable/modules/generated/sklearn.ensemble.BaggingClassifier.html#sklearn.ensemble.BaggingClassifier).  \n",
        "\n",
        "The Python code below fits a bagging classification model to predict whether a flight is delayed based on weather conditions."
      ],
      "metadata": {
        "id": "AqL4CT9DmFSu"
      }
    },
    {
      "cell_type": "code",
      "source": [
        "# Import packages and data\n",
        "import pandas as pd\n",
        "import numpy as np\n",
        "\n",
        "from sklearn.ensemble import BaggingClassifier\n",
        "\n",
        "flights = pd.read_csv('https://raw.githubusercontent.com/mh2t/DS5110/main/data/flights.csv').dropna()\n",
        "\n",
        "flights"
      ],
      "metadata": {
        "id": "5wPqpec_mTsf"
      },
      "execution_count": null,
      "outputs": []
    },
    {
      "cell_type": "code",
      "source": [
        "# Create input features X and output feature y\n",
        "X = flights[\n",
        "    [\n",
        "        'temp',\n",
        "        'dewp',\n",
        "        'humid',\n",
        "        'wind_dir',\n",
        "        'wind_speed',\n",
        "        'wind_gust',\n",
        "        'precip',\n",
        "        'pressure',\n",
        "        'visib',\n",
        "    ]\n",
        "]\n",
        "y = flights[['delay']]"
      ],
      "metadata": {
        "id": "74BbXjvomU36"
      },
      "execution_count": null,
      "outputs": []
    },
    {
      "cell_type": "code",
      "source": [
        "# Initialize the model\n",
        "baggingModel = BaggingClassifier()\n",
        "\n",
        "# Fit the model\n",
        "baggingModel = baggingModel.fit(X, np.ravel(y))"
      ],
      "metadata": {
        "id": "CC8FGJBxmWGh"
      },
      "execution_count": null,
      "outputs": []
    },
    {
      "cell_type": "code",
      "source": [
        "# Prediction accuracy for BaggingClassifier()\n",
        "baggingModel.score(X, y)"
      ],
      "metadata": {
        "id": "RLeIDCOfmXWe"
      },
      "execution_count": null,
      "outputs": []
    },
    {
      "cell_type": "code",
      "source": [
        "# Predictions from BaggingClassifier()\n",
        "baggingModel.predict(X)"
      ],
      "metadata": {
        "id": "fbwZ9s6TmYkR"
      },
      "execution_count": null,
      "outputs": []
    },
    {
      "cell_type": "code",
      "source": [
        "# Predicted class probabilities from BaggingClassifier()\n",
        "baggingModel.predict_proba(X)"
      ],
      "metadata": {
        "id": "duaYNak9mZtO"
      },
      "execution_count": null,
      "outputs": []
    },
    {
      "cell_type": "markdown",
      "source": [
        "#**Bagging Regression in Python**  \n",
        "\n",
        "The Python code below fits a bagging regression model to predict temperature based on other weather conditions."
      ],
      "metadata": {
        "id": "0K907ZN0mcg-"
      }
    },
    {
      "cell_type": "code",
      "source": [
        "# Import packages and data\n",
        "import pandas as pd\n",
        "import numpy as np\n",
        "from sklearn.ensemble import BaggingRegressor\n",
        "\n",
        "flights = pd.read_csv('https://raw.githubusercontent.com/mh2t/DS5110/main/data/flights.csv').dropna()\n",
        "\n",
        "flights"
      ],
      "metadata": {
        "id": "gcPCVBf5mieM"
      },
      "execution_count": null,
      "outputs": []
    },
    {
      "cell_type": "code",
      "source": [
        "# Create input features X and output feature y\n",
        "X = flights[['dewp', 'humid', 'wind_dir', 'wind_speed', 'wind_gust', 'precip', 'pressure', 'visib']]\n",
        "y = flights[['temp']]"
      ],
      "metadata": {
        "id": "Zbeh0MVimj7D"
      },
      "execution_count": null,
      "outputs": []
    },
    {
      "cell_type": "code",
      "source": [
        "# Initialize the model\n",
        "baggingModel = BaggingRegressor()\n",
        "\n",
        "# Fit the model\n",
        "baggingModel = baggingModel.fit(X, np.ravel(y))"
      ],
      "metadata": {
        "id": "9cUkfbLgmlLg"
      },
      "execution_count": null,
      "outputs": []
    },
    {
      "cell_type": "code",
      "source": [
        "# Prediction accuracy for BaggingRegressor()\n",
        "baggingModel.score(X, y)"
      ],
      "metadata": {
        "id": "T4L1crNLmmTs"
      },
      "execution_count": null,
      "outputs": []
    },
    {
      "cell_type": "code",
      "source": [
        "# Predictions from BaggingRegressor()\n",
        "baggingModel.predict(X)"
      ],
      "metadata": {
        "id": "1MrDnND5mnj5"
      },
      "execution_count": null,
      "outputs": []
    },
    {
      "cell_type": "markdown",
      "source": [
        "#**Stacking Classification in Python**  \n",
        "\n",
        "The Python code below fits a stacking classification model to predict whether a delay will occur based on other weather conditions."
      ],
      "metadata": {
        "id": "gC5C3YOomqm0"
      }
    },
    {
      "cell_type": "code",
      "source": [
        "import pandas as pd\n",
        "import numpy as np\n",
        "\n",
        "# Stacking classifier\n",
        "from sklearn.ensemble import StackingClassifier\n",
        "\n",
        "# Base models\n",
        "from sklearn.tree import DecisionTreeClassifier\n",
        "from sklearn.neighbors import KNeighborsClassifier\n",
        "from sklearn.naive_bayes import GaussianNB\n",
        "from sklearn.linear_model import LogisticRegression\n",
        "\n",
        "flights = pd.read_csv('https://raw.githubusercontent.com/mh2t/DS5110/main/data/flights.csv').dropna().sample(1000)\n",
        "\n",
        "flights"
      ],
      "metadata": {
        "id": "BuLTrjV4mxhQ"
      },
      "execution_count": null,
      "outputs": []
    },
    {
      "cell_type": "code",
      "source": [
        "# Create input features X and output feature y\n",
        "X = flights[\n",
        "    [\n",
        "        'temp',\n",
        "        'dewp',\n",
        "        'humid',\n",
        "        'wind_dir',\n",
        "        'wind_speed',\n",
        "        'wind_gust',\n",
        "        'precip',\n",
        "        'pressure',\n",
        "        'visib',\n",
        "    ]\n",
        "]\n",
        "y = flights[['delay']]"
      ],
      "metadata": {
        "id": "S0YVxqTJmynU"
      },
      "execution_count": null,
      "outputs": []
    },
    {
      "cell_type": "code",
      "source": [
        "# Create a list of base models\n",
        "estimators = [\n",
        "    ('decision_tree', DecisionTreeClassifier()),\n",
        "    ('knn', KNeighborsClassifier()),\n",
        "    ('gnb', GaussianNB()),\n",
        "]"
      ],
      "metadata": {
        "id": "vFXsPgwUm0C-"
      },
      "execution_count": null,
      "outputs": []
    },
    {
      "cell_type": "code",
      "source": [
        "# Initialize the model\n",
        "stackingModel = StackingClassifier(\n",
        "    estimators=estimators, final_estimator=LogisticRegression()\n",
        ")\n",
        "\n",
        "# Fit the model\n",
        "stackingModel = stackingModel.fit(X, np.ravel(y))"
      ],
      "metadata": {
        "id": "baxqshL4m1Z5"
      },
      "execution_count": null,
      "outputs": []
    },
    {
      "cell_type": "code",
      "source": [
        "# Prediction accuracy for StackingClassifier()\n",
        "stackingModel.score(X, y)"
      ],
      "metadata": {
        "id": "QLmoPGP7m4rH"
      },
      "execution_count": null,
      "outputs": []
    },
    {
      "cell_type": "code",
      "source": [
        "# Predictions from StackingClassifier()\n",
        "stackingModel.predict(X)"
      ],
      "metadata": {
        "id": "fM4VHB72m6C-"
      },
      "execution_count": null,
      "outputs": []
    },
    {
      "cell_type": "code",
      "source": [
        "# Predicted class probabilities from StackingClassifier()\n",
        "stackingModel.predict_proba(X)"
      ],
      "metadata": {
        "id": "Zu9Cu5m1m7nc"
      },
      "execution_count": null,
      "outputs": []
    },
    {
      "cell_type": "markdown",
      "source": [
        "#**Regression with Stacking in Python**  \n",
        "\n",
        "StackingRegressor() creates and fits a regression model with stacking. The most common parameters are base_estimator and n_estimators.\n",
        "\n",
        "Additional parameters and attributes for StackingRegressor() can be found in the [StackingRegressor documentation](https://scikit-learn.org/stable/modules/generated/sklearn.ensemble.StackingRegressor.html#sklearn.ensemble.StackingRegressor).  \n",
        "\n",
        "The Python code below fits a stacking regression model to predict temperature based on other weather conditions."
      ],
      "metadata": {
        "id": "KEiQ04VZnFLX"
      }
    },
    {
      "cell_type": "code",
      "source": [
        "import pandas as pd\n",
        "import numpy as np\n",
        "\n",
        "# Stacking regressor\n",
        "from sklearn.ensemble import StackingRegressor\n",
        "\n",
        "# Base models\n",
        "from sklearn.linear_model import LinearRegression\n",
        "from sklearn.svm import SVR\n",
        "from sklearn.tree import DecisionTreeRegressor\n",
        "from sklearn.preprocessing import PolynomialFeatures\n",
        "from sklearn.pipeline import make_pipeline\n",
        "from sklearn.preprocessing import StandardScaler\n",
        "\n",
        "\n",
        "flights = pd.read_csv('https://raw.githubusercontent.com/mh2t/DS5110/main/data/flights.csv').dropna().sample(1000)\n",
        "\n",
        "flights"
      ],
      "metadata": {
        "id": "bVpEwHrpnQKv"
      },
      "execution_count": null,
      "outputs": []
    },
    {
      "cell_type": "code",
      "source": [
        "# Create input features X and output feature y\n",
        "X = flights[['dewp', 'humid', 'wind_dir']]\n",
        "y = flights[['temp']]"
      ],
      "metadata": {
        "id": "7qYNKpVLnQq4"
      },
      "execution_count": null,
      "outputs": []
    },
    {
      "cell_type": "code",
      "source": [
        "# Create a list of base models\n",
        "estimators = [\n",
        "    ('linear', LinearRegression()),\n",
        "    ('decision_tree', DecisionTreeRegressor()),\n",
        "    ('svr', make_pipeline(StandardScaler(), SVR())),\n",
        "    ('poly', make_pipeline(PolynomialFeatures(degree=2), LinearRegression())),\n",
        "]"
      ],
      "metadata": {
        "id": "-zH-aR-LnSIf"
      },
      "execution_count": null,
      "outputs": []
    },
    {
      "cell_type": "code",
      "source": [
        "# Initialize the model\n",
        "stackingModel = StackingRegressor(\n",
        "    estimators=estimators, final_estimator=LinearRegression()\n",
        ")\n",
        "\n",
        "# Fit the model\n",
        "stackingModel = stackingModel.fit(X, np.ravel(y))"
      ],
      "metadata": {
        "id": "EM3UodKDnTkZ"
      },
      "execution_count": null,
      "outputs": []
    },
    {
      "cell_type": "code",
      "source": [
        "# Prediction accuracy for BaggingClassifier()\n",
        "stackingModel.score(X, y)"
      ],
      "metadata": {
        "id": "4LwLcqNUnV1w"
      },
      "execution_count": null,
      "outputs": []
    },
    {
      "cell_type": "code",
      "source": [
        "# Predictions from BaggingClassifier()\n",
        "stackingModel.predict(X)"
      ],
      "metadata": {
        "id": "-hPlW8gGnXIR"
      },
      "execution_count": null,
      "outputs": []
    }
  ]
}